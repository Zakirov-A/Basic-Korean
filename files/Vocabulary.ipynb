{
 "cells": [
  {
   "cell_type": "markdown",
   "metadata": {},
   "source": [
    "# Lesson 1"
   ]
  },
  {
   "cell_type": "markdown",
   "metadata": {},
   "source": [
    "`ЮН-СОК-ЙОЙ` = президент Южной Кореи\n",
    "\n",
    "`Ханбук` = Южняя Корея\n",
    "\n",
    "`Ханбуго` = Корейский Язык\n",
    "\n",
    "`Гибискус(Мунгунква)` = Корейский национальный цветок, символ Кореи"
   ]
  },
  {
   "cell_type": "markdown",
   "metadata": {},
   "source": [
    "`Тегки` = Корейский Национальный флаг"
   ]
  },
  {
   "cell_type": "markdown",
   "metadata": {},
   "source": [
    "`Седжонг` = Правитель, создавший Корейскую письменность\n",
    "\n",
    "`Хангы(Кун-мин-чон-ым) а после был создан Хангым` = письменность Кореи"
   ]
  },
  {
   "cell_type": "markdown",
   "metadata": {},
   "source": [
    "`Anyon` = приветсвие(в основном для ровестников или людей младше)\n",
    "\n",
    "`anyonaseyo` = приветсвие(старшим людям)\n",
    "\n",
    "`Anyoashimnika` = Приветствие(самая вежливая и почетная)\n",
    "\n",
    "`Chonin ....... Imnida` = Я `Абдулазиз` являюсь (или меня зовут Абдулазиз)\n",
    "\n",
    "`Mannaso pangapsimnida` = рад познакомиться"
   ]
  },
  {
   "cell_type": "markdown",
   "metadata": {},
   "source": [
    "`아이` = ребенок\n",
    "\n",
    "`우유` = молоко\n",
    "\n",
    "`오이` = огурец\n",
    "\n",
    "`이` = зуб\n",
    "\n",
    "`여우` = лиса\n",
    "\n",
    "`오` = 5"
   ]
  },
  {
   "cell_type": "markdown",
   "metadata": {},
   "source": [
    "`Сонсэним` = обращение(учитель)\n",
    "\n",
    "`Камсамнида` = спасибо\n",
    "\n",
    "`Инса` = хурмат\n",
    "\n",
    "`HW` = `Сукце`"
   ]
  },
  {
   "cell_type": "markdown",
   "metadata": {},
   "source": [
    "# Lesson 2"
   ]
  },
  {
   "cell_type": "markdown",
   "metadata": {},
   "source": [
    "`Кёсуним` - Профессор\n",
    "\n",
    "`Ныдьосо Тьэсонамнида` - Извините за опоздание\n",
    "\n",
    "`Тырокадо твеё?` - Можно войти?\n",
    "\n",
    "`Нагадо твеё?` - Можно выйти?\n",
    "\n",
    "`нэ\\аниё` - да\\нет"
   ]
  },
  {
   "cell_type": "markdown",
   "metadata": {},
   "source": [
    "`теван` - король (великий)\n",
    "\n",
    "`Ханбог` - корейская национальная традициональная одежда"
   ]
  },
  {
   "cell_type": "markdown",
   "metadata": {},
   "source": [
    "`구` = 9 (ку)\n",
    "\n",
    "`고기` - мясо) (коги)"
   ]
  },
  {
   "cell_type": "markdown",
   "metadata": {},
   "source": [
    "`누나` = сестра для мальчиков (нуна)"
   ]
  },
  {
   "cell_type": "markdown",
   "metadata": {},
   "source": [
    "`도로` = дорога (торо)\n",
    "\n",
    "`구두` = туфли (куту)"
   ]
  },
  {
   "cell_type": "markdown",
   "metadata": {},
   "source": [
    "`거리` = улица (кори)\n",
    "\n",
    "`다리` = ноги (тари)"
   ]
  },
  {
   "cell_type": "markdown",
   "metadata": {},
   "source": [
    "`어머니` = мама (амани)\n",
    "\n",
    "`머리` = голова или волосы (мори)"
   ]
  },
  {
   "cell_type": "markdown",
   "metadata": {},
   "source": [
    "`바다` = море (пада)\n",
    "\n",
    "`나비` = бабочка (наби)"
   ]
  },
  {
   "cell_type": "markdown",
   "metadata": {},
   "source": [
    "`소나무` = сосна (сонаму)\n",
    "\n",
    "`도시` = город (тоущи)"
   ]
  },
  {
   "cell_type": "markdown",
   "metadata": {},
   "source": [
    "`자다` = cпать (тьада)\n",
    "\n",
    "`아버지` = папа (абодьи)"
   ]
  },
  {
   "cell_type": "markdown",
   "metadata": {},
   "source": [
    "`Чусок` - день благодарения\n",
    "\n",
    "`Сонпён` - рисовое тесто (внутри фасоль с сахаром или мясо)"
   ]
  },
  {
   "cell_type": "markdown",
   "metadata": {},
   "source": []
  }
 ],
 "metadata": {
  "kernelspec": {
   "display_name": "Python 3.10.4 64-bit",
   "language": "python",
   "name": "python3"
  },
  "language_info": {
   "name": "python",
   "version": "3.10.4"
  },
  "orig_nbformat": 4,
  "vscode": {
   "interpreter": {
    "hash": "916dbcbb3f70747c44a77c7bcd40155683ae19c65e1c03b4aa3499c5328201f1"
   }
  }
 },
 "nbformat": 4,
 "nbformat_minor": 2
}
